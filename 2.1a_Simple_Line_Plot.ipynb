{
 "cells": [
  {
   "cell_type": "markdown",
   "metadata": {},
   "source": [
    "## During the polar vortex, record low temperatures were set around Chicago. On Northerly Island, the National Weather Service recorded a low of -22&deg;F One of the nodes (001e06113cf1 ) is on Michigan Ave. and Randolph St. by Millenium Park, not far from Northerly Island.\n",
    "\n",
    "## How accurate is this node?\n",
    "\n",
    "### 1. Import the January 2019 data for this node (\"Millenium_node.csv)\n",
    "### 2. Set the \"timestamp\" as the index.\n",
    "### 3. Find the names of all of the temperature sensors in the node.\n",
    "### 4. Convert the `value_hrf`'s to Farhenheit"
   ]
  },
  {
   "cell_type": "code",
   "execution_count": 1,
   "metadata": {},
   "outputs": [],
   "source": [
    "#Millenium_node = polar[polar['node_id'] == '001e06113cf1']"
   ]
  },
  {
   "cell_type": "code",
   "execution_count": 2,
   "metadata": {},
   "outputs": [],
   "source": [
    "#Millenium_node.to_csv('/Users/jdomyancich/Desktop/Big Data Camp Data/Millenium_node.csv')"
   ]
  },
  {
   "cell_type": "code",
   "execution_count": 3,
   "metadata": {},
   "outputs": [],
   "source": [
    "import pandas as pd"
   ]
  },
  {
   "cell_type": "code",
   "execution_count": 4,
   "metadata": {},
   "outputs": [],
   "source": [
    "polar = pd.read_csv('/Users/jdomyancich/Desktop/Big Data Camp Data/Millenium_node.csv')"
   ]
  },
  {
   "cell_type": "code",
   "execution_count": 5,
   "metadata": {},
   "outputs": [],
   "source": [
    "polar['timestamp'] = pd.to_datetime(polar['timestamp'])"
   ]
  },
  {
   "cell_type": "code",
   "execution_count": 6,
   "metadata": {},
   "outputs": [
    {
     "data": {
      "text/html": [
       "<div>\n",
       "<style scoped>\n",
       "    .dataframe tbody tr th:only-of-type {\n",
       "        vertical-align: middle;\n",
       "    }\n",
       "\n",
       "    .dataframe tbody tr th {\n",
       "        vertical-align: top;\n",
       "    }\n",
       "\n",
       "    .dataframe thead th {\n",
       "        text-align: right;\n",
       "    }\n",
       "</style>\n",
       "<table border=\"1\" class=\"dataframe\">\n",
       "  <thead>\n",
       "    <tr style=\"text-align: right;\">\n",
       "      <th></th>\n",
       "      <th>Unnamed: 0</th>\n",
       "      <th>timestamp</th>\n",
       "      <th>node_id</th>\n",
       "      <th>subsystem</th>\n",
       "      <th>sensor</th>\n",
       "      <th>parameter</th>\n",
       "      <th>value_raw</th>\n",
       "      <th>value_hrf</th>\n",
       "    </tr>\n",
       "  </thead>\n",
       "  <tbody>\n",
       "    <tr>\n",
       "      <th>0</th>\n",
       "      <td>926</td>\n",
       "      <td>2019-01-01 00:00:20</td>\n",
       "      <td>001e06113cf1</td>\n",
       "      <td>chemsense</td>\n",
       "      <td>at0</td>\n",
       "      <td>temperature</td>\n",
       "      <td>494.0</td>\n",
       "      <td>4.94</td>\n",
       "    </tr>\n",
       "    <tr>\n",
       "      <th>1</th>\n",
       "      <td>927</td>\n",
       "      <td>2019-01-01 00:00:20</td>\n",
       "      <td>001e06113cf1</td>\n",
       "      <td>chemsense</td>\n",
       "      <td>at1</td>\n",
       "      <td>temperature</td>\n",
       "      <td>523.0</td>\n",
       "      <td>5.23</td>\n",
       "    </tr>\n",
       "    <tr>\n",
       "      <th>2</th>\n",
       "      <td>928</td>\n",
       "      <td>2019-01-01 00:00:20</td>\n",
       "      <td>001e06113cf1</td>\n",
       "      <td>chemsense</td>\n",
       "      <td>at2</td>\n",
       "      <td>temperature</td>\n",
       "      <td>587.0</td>\n",
       "      <td>5.87</td>\n",
       "    </tr>\n",
       "    <tr>\n",
       "      <th>3</th>\n",
       "      <td>929</td>\n",
       "      <td>2019-01-01 00:00:20</td>\n",
       "      <td>001e06113cf1</td>\n",
       "      <td>chemsense</td>\n",
       "      <td>at3</td>\n",
       "      <td>temperature</td>\n",
       "      <td>632.0</td>\n",
       "      <td>6.32</td>\n",
       "    </tr>\n",
       "    <tr>\n",
       "      <th>4</th>\n",
       "      <td>930</td>\n",
       "      <td>2019-01-01 00:00:20</td>\n",
       "      <td>001e06113cf1</td>\n",
       "      <td>chemsense</td>\n",
       "      <td>chemsense</td>\n",
       "      <td>id</td>\n",
       "      <td>NaN</td>\n",
       "      <td>5410ec38b824</td>\n",
       "    </tr>\n",
       "  </tbody>\n",
       "</table>\n",
       "</div>"
      ],
      "text/plain": [
       "   Unnamed: 0           timestamp       node_id  subsystem     sensor  \\\n",
       "0         926 2019-01-01 00:00:20  001e06113cf1  chemsense        at0   \n",
       "1         927 2019-01-01 00:00:20  001e06113cf1  chemsense        at1   \n",
       "2         928 2019-01-01 00:00:20  001e06113cf1  chemsense        at2   \n",
       "3         929 2019-01-01 00:00:20  001e06113cf1  chemsense        at3   \n",
       "4         930 2019-01-01 00:00:20  001e06113cf1  chemsense  chemsense   \n",
       "\n",
       "     parameter value_raw     value_hrf  \n",
       "0  temperature     494.0          4.94  \n",
       "1  temperature     523.0          5.23  \n",
       "2  temperature     587.0          5.87  \n",
       "3  temperature     632.0          6.32  \n",
       "4           id       NaN  5410ec38b824  "
      ]
     },
     "execution_count": 6,
     "metadata": {},
     "output_type": "execute_result"
    }
   ],
   "source": [
    "polar.head()"
   ]
  },
  {
   "cell_type": "code",
   "execution_count": 7,
   "metadata": {},
   "outputs": [],
   "source": [
    "polar.index = polar['timestamp']"
   ]
  },
  {
   "cell_type": "code",
   "execution_count": 8,
   "metadata": {},
   "outputs": [
    {
     "data": {
      "text/html": [
       "<div>\n",
       "<style scoped>\n",
       "    .dataframe tbody tr th:only-of-type {\n",
       "        vertical-align: middle;\n",
       "    }\n",
       "\n",
       "    .dataframe tbody tr th {\n",
       "        vertical-align: top;\n",
       "    }\n",
       "\n",
       "    .dataframe thead th {\n",
       "        text-align: right;\n",
       "    }\n",
       "</style>\n",
       "<table border=\"1\" class=\"dataframe\">\n",
       "  <thead>\n",
       "    <tr style=\"text-align: right;\">\n",
       "      <th></th>\n",
       "      <th>Unnamed: 0</th>\n",
       "      <th>timestamp</th>\n",
       "      <th>node_id</th>\n",
       "      <th>subsystem</th>\n",
       "      <th>sensor</th>\n",
       "      <th>parameter</th>\n",
       "      <th>value_raw</th>\n",
       "      <th>value_hrf</th>\n",
       "    </tr>\n",
       "    <tr>\n",
       "      <th>timestamp</th>\n",
       "      <th></th>\n",
       "      <th></th>\n",
       "      <th></th>\n",
       "      <th></th>\n",
       "      <th></th>\n",
       "      <th></th>\n",
       "      <th></th>\n",
       "      <th></th>\n",
       "    </tr>\n",
       "  </thead>\n",
       "  <tbody>\n",
       "    <tr>\n",
       "      <th>2019-01-01 00:00:20</th>\n",
       "      <td>926</td>\n",
       "      <td>2019-01-01 00:00:20</td>\n",
       "      <td>001e06113cf1</td>\n",
       "      <td>chemsense</td>\n",
       "      <td>at0</td>\n",
       "      <td>temperature</td>\n",
       "      <td>494.0</td>\n",
       "      <td>4.94</td>\n",
       "    </tr>\n",
       "    <tr>\n",
       "      <th>2019-01-01 00:00:20</th>\n",
       "      <td>927</td>\n",
       "      <td>2019-01-01 00:00:20</td>\n",
       "      <td>001e06113cf1</td>\n",
       "      <td>chemsense</td>\n",
       "      <td>at1</td>\n",
       "      <td>temperature</td>\n",
       "      <td>523.0</td>\n",
       "      <td>5.23</td>\n",
       "    </tr>\n",
       "    <tr>\n",
       "      <th>2019-01-01 00:00:20</th>\n",
       "      <td>928</td>\n",
       "      <td>2019-01-01 00:00:20</td>\n",
       "      <td>001e06113cf1</td>\n",
       "      <td>chemsense</td>\n",
       "      <td>at2</td>\n",
       "      <td>temperature</td>\n",
       "      <td>587.0</td>\n",
       "      <td>5.87</td>\n",
       "    </tr>\n",
       "    <tr>\n",
       "      <th>2019-01-01 00:00:20</th>\n",
       "      <td>929</td>\n",
       "      <td>2019-01-01 00:00:20</td>\n",
       "      <td>001e06113cf1</td>\n",
       "      <td>chemsense</td>\n",
       "      <td>at3</td>\n",
       "      <td>temperature</td>\n",
       "      <td>632.0</td>\n",
       "      <td>6.32</td>\n",
       "    </tr>\n",
       "    <tr>\n",
       "      <th>2019-01-01 00:00:20</th>\n",
       "      <td>930</td>\n",
       "      <td>2019-01-01 00:00:20</td>\n",
       "      <td>001e06113cf1</td>\n",
       "      <td>chemsense</td>\n",
       "      <td>chemsense</td>\n",
       "      <td>id</td>\n",
       "      <td>NaN</td>\n",
       "      <td>5410ec38b824</td>\n",
       "    </tr>\n",
       "  </tbody>\n",
       "</table>\n",
       "</div>"
      ],
      "text/plain": [
       "                     Unnamed: 0           timestamp       node_id  subsystem  \\\n",
       "timestamp                                                                      \n",
       "2019-01-01 00:00:20         926 2019-01-01 00:00:20  001e06113cf1  chemsense   \n",
       "2019-01-01 00:00:20         927 2019-01-01 00:00:20  001e06113cf1  chemsense   \n",
       "2019-01-01 00:00:20         928 2019-01-01 00:00:20  001e06113cf1  chemsense   \n",
       "2019-01-01 00:00:20         929 2019-01-01 00:00:20  001e06113cf1  chemsense   \n",
       "2019-01-01 00:00:20         930 2019-01-01 00:00:20  001e06113cf1  chemsense   \n",
       "\n",
       "                        sensor    parameter value_raw     value_hrf  \n",
       "timestamp                                                            \n",
       "2019-01-01 00:00:20        at0  temperature     494.0          4.94  \n",
       "2019-01-01 00:00:20        at1  temperature     523.0          5.23  \n",
       "2019-01-01 00:00:20        at2  temperature     587.0          5.87  \n",
       "2019-01-01 00:00:20        at3  temperature     632.0          6.32  \n",
       "2019-01-01 00:00:20  chemsense           id       NaN  5410ec38b824  "
      ]
     },
     "execution_count": 8,
     "metadata": {},
     "output_type": "execute_result"
    }
   ],
   "source": [
    "polar.head()"
   ]
  },
  {
   "cell_type": "code",
   "execution_count": 9,
   "metadata": {},
   "outputs": [],
   "source": [
    "del polar['timestamp']"
   ]
  },
  {
   "cell_type": "code",
   "execution_count": 10,
   "metadata": {
    "scrolled": true
   },
   "outputs": [
    {
     "data": {
      "text/html": [
       "<div>\n",
       "<style scoped>\n",
       "    .dataframe tbody tr th:only-of-type {\n",
       "        vertical-align: middle;\n",
       "    }\n",
       "\n",
       "    .dataframe tbody tr th {\n",
       "        vertical-align: top;\n",
       "    }\n",
       "\n",
       "    .dataframe thead th {\n",
       "        text-align: right;\n",
       "    }\n",
       "</style>\n",
       "<table border=\"1\" class=\"dataframe\">\n",
       "  <thead>\n",
       "    <tr style=\"text-align: right;\">\n",
       "      <th></th>\n",
       "      <th>Unnamed: 0</th>\n",
       "      <th>node_id</th>\n",
       "      <th>subsystem</th>\n",
       "      <th>sensor</th>\n",
       "      <th>parameter</th>\n",
       "      <th>value_raw</th>\n",
       "      <th>value_hrf</th>\n",
       "    </tr>\n",
       "    <tr>\n",
       "      <th>timestamp</th>\n",
       "      <th></th>\n",
       "      <th></th>\n",
       "      <th></th>\n",
       "      <th></th>\n",
       "      <th></th>\n",
       "      <th></th>\n",
       "      <th></th>\n",
       "    </tr>\n",
       "  </thead>\n",
       "  <tbody>\n",
       "    <tr>\n",
       "      <th>2019-01-01 00:00:20</th>\n",
       "      <td>926</td>\n",
       "      <td>001e06113cf1</td>\n",
       "      <td>chemsense</td>\n",
       "      <td>at0</td>\n",
       "      <td>temperature</td>\n",
       "      <td>494.0</td>\n",
       "      <td>4.94</td>\n",
       "    </tr>\n",
       "    <tr>\n",
       "      <th>2019-01-01 00:00:20</th>\n",
       "      <td>927</td>\n",
       "      <td>001e06113cf1</td>\n",
       "      <td>chemsense</td>\n",
       "      <td>at1</td>\n",
       "      <td>temperature</td>\n",
       "      <td>523.0</td>\n",
       "      <td>5.23</td>\n",
       "    </tr>\n",
       "    <tr>\n",
       "      <th>2019-01-01 00:00:20</th>\n",
       "      <td>928</td>\n",
       "      <td>001e06113cf1</td>\n",
       "      <td>chemsense</td>\n",
       "      <td>at2</td>\n",
       "      <td>temperature</td>\n",
       "      <td>587.0</td>\n",
       "      <td>5.87</td>\n",
       "    </tr>\n",
       "    <tr>\n",
       "      <th>2019-01-01 00:00:20</th>\n",
       "      <td>929</td>\n",
       "      <td>001e06113cf1</td>\n",
       "      <td>chemsense</td>\n",
       "      <td>at3</td>\n",
       "      <td>temperature</td>\n",
       "      <td>632.0</td>\n",
       "      <td>6.32</td>\n",
       "    </tr>\n",
       "    <tr>\n",
       "      <th>2019-01-01 00:00:20</th>\n",
       "      <td>930</td>\n",
       "      <td>001e06113cf1</td>\n",
       "      <td>chemsense</td>\n",
       "      <td>chemsense</td>\n",
       "      <td>id</td>\n",
       "      <td>NaN</td>\n",
       "      <td>5410ec38b824</td>\n",
       "    </tr>\n",
       "  </tbody>\n",
       "</table>\n",
       "</div>"
      ],
      "text/plain": [
       "                     Unnamed: 0       node_id  subsystem     sensor  \\\n",
       "timestamp                                                             \n",
       "2019-01-01 00:00:20         926  001e06113cf1  chemsense        at0   \n",
       "2019-01-01 00:00:20         927  001e06113cf1  chemsense        at1   \n",
       "2019-01-01 00:00:20         928  001e06113cf1  chemsense        at2   \n",
       "2019-01-01 00:00:20         929  001e06113cf1  chemsense        at3   \n",
       "2019-01-01 00:00:20         930  001e06113cf1  chemsense  chemsense   \n",
       "\n",
       "                       parameter value_raw     value_hrf  \n",
       "timestamp                                                 \n",
       "2019-01-01 00:00:20  temperature     494.0          4.94  \n",
       "2019-01-01 00:00:20  temperature     523.0          5.23  \n",
       "2019-01-01 00:00:20  temperature     587.0          5.87  \n",
       "2019-01-01 00:00:20  temperature     632.0          6.32  \n",
       "2019-01-01 00:00:20           id       NaN  5410ec38b824  "
      ]
     },
     "execution_count": 10,
     "metadata": {},
     "output_type": "execute_result"
    }
   ],
   "source": [
    "polar.head()"
   ]
  },
  {
   "cell_type": "code",
   "execution_count": 11,
   "metadata": {},
   "outputs": [],
   "source": [
    "polar_temps = polar[(polar['parameter'] == \"temperature\")]"
   ]
  },
  {
   "cell_type": "code",
   "execution_count": 12,
   "metadata": {},
   "outputs": [
    {
     "data": {
      "text/html": [
       "<div>\n",
       "<style scoped>\n",
       "    .dataframe tbody tr th:only-of-type {\n",
       "        vertical-align: middle;\n",
       "    }\n",
       "\n",
       "    .dataframe tbody tr th {\n",
       "        vertical-align: top;\n",
       "    }\n",
       "\n",
       "    .dataframe thead th {\n",
       "        text-align: right;\n",
       "    }\n",
       "</style>\n",
       "<table border=\"1\" class=\"dataframe\">\n",
       "  <thead>\n",
       "    <tr style=\"text-align: right;\">\n",
       "      <th></th>\n",
       "      <th>Unnamed: 0</th>\n",
       "      <th>node_id</th>\n",
       "      <th>subsystem</th>\n",
       "      <th>sensor</th>\n",
       "      <th>parameter</th>\n",
       "      <th>value_raw</th>\n",
       "      <th>value_hrf</th>\n",
       "    </tr>\n",
       "    <tr>\n",
       "      <th>timestamp</th>\n",
       "      <th></th>\n",
       "      <th></th>\n",
       "      <th></th>\n",
       "      <th></th>\n",
       "      <th></th>\n",
       "      <th></th>\n",
       "      <th></th>\n",
       "    </tr>\n",
       "  </thead>\n",
       "  <tbody>\n",
       "    <tr>\n",
       "      <th>2019-01-01 00:00:20</th>\n",
       "      <td>926</td>\n",
       "      <td>001e06113cf1</td>\n",
       "      <td>chemsense</td>\n",
       "      <td>at0</td>\n",
       "      <td>temperature</td>\n",
       "      <td>494.0</td>\n",
       "      <td>4.94</td>\n",
       "    </tr>\n",
       "    <tr>\n",
       "      <th>2019-01-01 00:00:20</th>\n",
       "      <td>927</td>\n",
       "      <td>001e06113cf1</td>\n",
       "      <td>chemsense</td>\n",
       "      <td>at1</td>\n",
       "      <td>temperature</td>\n",
       "      <td>523.0</td>\n",
       "      <td>5.23</td>\n",
       "    </tr>\n",
       "    <tr>\n",
       "      <th>2019-01-01 00:00:20</th>\n",
       "      <td>928</td>\n",
       "      <td>001e06113cf1</td>\n",
       "      <td>chemsense</td>\n",
       "      <td>at2</td>\n",
       "      <td>temperature</td>\n",
       "      <td>587.0</td>\n",
       "      <td>5.87</td>\n",
       "    </tr>\n",
       "    <tr>\n",
       "      <th>2019-01-01 00:00:20</th>\n",
       "      <td>929</td>\n",
       "      <td>001e06113cf1</td>\n",
       "      <td>chemsense</td>\n",
       "      <td>at3</td>\n",
       "      <td>temperature</td>\n",
       "      <td>632.0</td>\n",
       "      <td>6.32</td>\n",
       "    </tr>\n",
       "    <tr>\n",
       "      <th>2019-01-01 00:00:20</th>\n",
       "      <td>934</td>\n",
       "      <td>001e06113cf1</td>\n",
       "      <td>chemsense</td>\n",
       "      <td>lps25h</td>\n",
       "      <td>temperature</td>\n",
       "      <td>885.0</td>\n",
       "      <td>8.85</td>\n",
       "    </tr>\n",
       "    <tr>\n",
       "      <th>2019-01-01 00:00:20</th>\n",
       "      <td>945</td>\n",
       "      <td>001e06113cf1</td>\n",
       "      <td>lightsense</td>\n",
       "      <td>hih6130</td>\n",
       "      <td>temperature</td>\n",
       "      <td>21097</td>\n",
       "      <td>13.12</td>\n",
       "    </tr>\n",
       "    <tr>\n",
       "      <th>2019-01-01 00:00:20</th>\n",
       "      <td>951</td>\n",
       "      <td>001e06113cf1</td>\n",
       "      <td>lightsense</td>\n",
       "      <td>tmp421</td>\n",
       "      <td>temperature</td>\n",
       "      <td>2576</td>\n",
       "      <td>10.06</td>\n",
       "    </tr>\n",
       "    <tr>\n",
       "      <th>2019-01-01 00:00:20</th>\n",
       "      <td>955</td>\n",
       "      <td>001e06113cf1</td>\n",
       "      <td>metsense</td>\n",
       "      <td>bmp180</td>\n",
       "      <td>temperature</td>\n",
       "      <td>26384</td>\n",
       "      <td>37.8</td>\n",
       "    </tr>\n",
       "    <tr>\n",
       "      <th>2019-01-01 00:00:20</th>\n",
       "      <td>958</td>\n",
       "      <td>001e06113cf1</td>\n",
       "      <td>metsense</td>\n",
       "      <td>htu21d</td>\n",
       "      <td>temperature</td>\n",
       "      <td>19352</td>\n",
       "      <td>5.04</td>\n",
       "    </tr>\n",
       "    <tr>\n",
       "      <th>2019-01-01 00:00:20</th>\n",
       "      <td>963</td>\n",
       "      <td>001e06113cf1</td>\n",
       "      <td>metsense</td>\n",
       "      <td>pr103j2</td>\n",
       "      <td>temperature</td>\n",
       "      <td>665</td>\n",
       "      <td>5.05</td>\n",
       "    </tr>\n",
       "    <tr>\n",
       "      <th>2019-01-01 00:00:20</th>\n",
       "      <td>965</td>\n",
       "      <td>001e06113cf1</td>\n",
       "      <td>metsense</td>\n",
       "      <td>tmp112</td>\n",
       "      <td>temperature</td>\n",
       "      <td>745</td>\n",
       "      <td>5.81</td>\n",
       "    </tr>\n",
       "    <tr>\n",
       "      <th>2019-01-01 00:00:20</th>\n",
       "      <td>967</td>\n",
       "      <td>001e06113cf1</td>\n",
       "      <td>metsense</td>\n",
       "      <td>tsys01</td>\n",
       "      <td>temperature</td>\n",
       "      <td>9217874</td>\n",
       "      <td>4.79</td>\n",
       "    </tr>\n",
       "  </tbody>\n",
       "</table>\n",
       "</div>"
      ],
      "text/plain": [
       "                     Unnamed: 0       node_id   subsystem   sensor  \\\n",
       "timestamp                                                            \n",
       "2019-01-01 00:00:20         926  001e06113cf1   chemsense      at0   \n",
       "2019-01-01 00:00:20         927  001e06113cf1   chemsense      at1   \n",
       "2019-01-01 00:00:20         928  001e06113cf1   chemsense      at2   \n",
       "2019-01-01 00:00:20         929  001e06113cf1   chemsense      at3   \n",
       "2019-01-01 00:00:20         934  001e06113cf1   chemsense   lps25h   \n",
       "2019-01-01 00:00:20         945  001e06113cf1  lightsense  hih6130   \n",
       "2019-01-01 00:00:20         951  001e06113cf1  lightsense   tmp421   \n",
       "2019-01-01 00:00:20         955  001e06113cf1    metsense   bmp180   \n",
       "2019-01-01 00:00:20         958  001e06113cf1    metsense   htu21d   \n",
       "2019-01-01 00:00:20         963  001e06113cf1    metsense  pr103j2   \n",
       "2019-01-01 00:00:20         965  001e06113cf1    metsense   tmp112   \n",
       "2019-01-01 00:00:20         967  001e06113cf1    metsense   tsys01   \n",
       "\n",
       "                       parameter value_raw value_hrf  \n",
       "timestamp                                             \n",
       "2019-01-01 00:00:20  temperature     494.0      4.94  \n",
       "2019-01-01 00:00:20  temperature     523.0      5.23  \n",
       "2019-01-01 00:00:20  temperature     587.0      5.87  \n",
       "2019-01-01 00:00:20  temperature     632.0      6.32  \n",
       "2019-01-01 00:00:20  temperature     885.0      8.85  \n",
       "2019-01-01 00:00:20  temperature     21097     13.12  \n",
       "2019-01-01 00:00:20  temperature      2576     10.06  \n",
       "2019-01-01 00:00:20  temperature     26384      37.8  \n",
       "2019-01-01 00:00:20  temperature     19352      5.04  \n",
       "2019-01-01 00:00:20  temperature       665      5.05  \n",
       "2019-01-01 00:00:20  temperature       745      5.81  \n",
       "2019-01-01 00:00:20  temperature   9217874      4.79  "
      ]
     },
     "execution_count": 12,
     "metadata": {},
     "output_type": "execute_result"
    }
   ],
   "source": [
    "polar_temps.drop_duplicates('sensor')"
   ]
  },
  {
   "cell_type": "markdown",
   "metadata": {},
   "source": [
    "Convert the temperatures to Fahrenheit."
   ]
  },
  {
   "cell_type": "code",
   "execution_count": 13,
   "metadata": {},
   "outputs": [],
   "source": [
    "def cel_to_far(temp_C):\n",
    "    temp_F = (temp_C * 9/5) + 32\n",
    "    return temp_F"
   ]
  },
  {
   "cell_type": "code",
   "execution_count": 16,
   "metadata": {
    "scrolled": true
   },
   "outputs": [
    {
     "ename": "TypeError",
     "evalue": "unsupported operand type(s) for /: 'str' and 'int'",
     "output_type": "error",
     "traceback": [
      "\u001b[0;31m---------------------------------------------------------------------------\u001b[0m",
      "\u001b[0;31mTypeError\u001b[0m                                 Traceback (most recent call last)",
      "\u001b[0;32m<ipython-input-16-6e31929720a2>\u001b[0m in \u001b[0;36m<module>\u001b[0;34m()\u001b[0m\n\u001b[0;32m----> 1\u001b[0;31m \u001b[0mpolar_temps\u001b[0m\u001b[0;34m[\u001b[0m\u001b[0;34m'Temp_F'\u001b[0m\u001b[0;34m]\u001b[0m \u001b[0;34m=\u001b[0m \u001b[0mpolar_temps\u001b[0m\u001b[0;34m[\u001b[0m\u001b[0;34m'value_hrf'\u001b[0m\u001b[0;34m]\u001b[0m\u001b[0;34m.\u001b[0m\u001b[0mapply\u001b[0m\u001b[0;34m(\u001b[0m\u001b[0mcel_to_far\u001b[0m\u001b[0;34m)\u001b[0m\u001b[0;34m\u001b[0m\u001b[0m\n\u001b[0m",
      "\u001b[0;32m/anaconda3/lib/python3.6/site-packages/pandas/core/series.py\u001b[0m in \u001b[0;36mapply\u001b[0;34m(self, func, convert_dtype, args, **kwds)\u001b[0m\n\u001b[1;32m   3190\u001b[0m             \u001b[0;32melse\u001b[0m\u001b[0;34m:\u001b[0m\u001b[0;34m\u001b[0m\u001b[0m\n\u001b[1;32m   3191\u001b[0m                 \u001b[0mvalues\u001b[0m \u001b[0;34m=\u001b[0m \u001b[0mself\u001b[0m\u001b[0;34m.\u001b[0m\u001b[0mastype\u001b[0m\u001b[0;34m(\u001b[0m\u001b[0mobject\u001b[0m\u001b[0;34m)\u001b[0m\u001b[0;34m.\u001b[0m\u001b[0mvalues\u001b[0m\u001b[0;34m\u001b[0m\u001b[0m\n\u001b[0;32m-> 3192\u001b[0;31m                 \u001b[0mmapped\u001b[0m \u001b[0;34m=\u001b[0m \u001b[0mlib\u001b[0m\u001b[0;34m.\u001b[0m\u001b[0mmap_infer\u001b[0m\u001b[0;34m(\u001b[0m\u001b[0mvalues\u001b[0m\u001b[0;34m,\u001b[0m \u001b[0mf\u001b[0m\u001b[0;34m,\u001b[0m \u001b[0mconvert\u001b[0m\u001b[0;34m=\u001b[0m\u001b[0mconvert_dtype\u001b[0m\u001b[0;34m)\u001b[0m\u001b[0;34m\u001b[0m\u001b[0m\n\u001b[0m\u001b[1;32m   3193\u001b[0m \u001b[0;34m\u001b[0m\u001b[0m\n\u001b[1;32m   3194\u001b[0m         \u001b[0;32mif\u001b[0m \u001b[0mlen\u001b[0m\u001b[0;34m(\u001b[0m\u001b[0mmapped\u001b[0m\u001b[0;34m)\u001b[0m \u001b[0;32mand\u001b[0m \u001b[0misinstance\u001b[0m\u001b[0;34m(\u001b[0m\u001b[0mmapped\u001b[0m\u001b[0;34m[\u001b[0m\u001b[0;36m0\u001b[0m\u001b[0;34m]\u001b[0m\u001b[0;34m,\u001b[0m \u001b[0mSeries\u001b[0m\u001b[0;34m)\u001b[0m\u001b[0;34m:\u001b[0m\u001b[0;34m\u001b[0m\u001b[0m\n",
      "\u001b[0;32mpandas/_libs/src/inference.pyx\u001b[0m in \u001b[0;36mpandas._libs.lib.map_infer\u001b[0;34m()\u001b[0m\n",
      "\u001b[0;32m<ipython-input-13-f30192625944>\u001b[0m in \u001b[0;36mcel_to_far\u001b[0;34m(temp_C)\u001b[0m\n\u001b[1;32m      1\u001b[0m \u001b[0;32mdef\u001b[0m \u001b[0mcel_to_far\u001b[0m\u001b[0;34m(\u001b[0m\u001b[0mtemp_C\u001b[0m\u001b[0;34m)\u001b[0m\u001b[0;34m:\u001b[0m\u001b[0;34m\u001b[0m\u001b[0m\n\u001b[0;32m----> 2\u001b[0;31m     \u001b[0mtemp_F\u001b[0m \u001b[0;34m=\u001b[0m \u001b[0;34m(\u001b[0m\u001b[0mtemp_C\u001b[0m \u001b[0;34m*\u001b[0m \u001b[0;36m9\u001b[0m\u001b[0;34m/\u001b[0m\u001b[0;36m5\u001b[0m\u001b[0;34m)\u001b[0m \u001b[0;34m+\u001b[0m \u001b[0;36m32\u001b[0m\u001b[0;34m\u001b[0m\u001b[0m\n\u001b[0m\u001b[1;32m      3\u001b[0m     \u001b[0;32mreturn\u001b[0m \u001b[0mtemp_F\u001b[0m\u001b[0;34m\u001b[0m\u001b[0m\n",
      "\u001b[0;31mTypeError\u001b[0m: unsupported operand type(s) for /: 'str' and 'int'"
     ]
    }
   ],
   "source": [
    "polar_temps['Temp_F'] = polar_temps['value_hrf'].apply(cel_to_far)"
   ]
  },
  {
   "cell_type": "code",
   "execution_count": 17,
   "metadata": {
    "scrolled": true
   },
   "outputs": [
    {
     "name": "stderr",
     "output_type": "stream",
     "text": [
      "/anaconda3/lib/python3.6/site-packages/ipykernel_launcher.py:1: SettingWithCopyWarning: \n",
      "A value is trying to be set on a copy of a slice from a DataFrame.\n",
      "Try using .loc[row_indexer,col_indexer] = value instead\n",
      "\n",
      "See the caveats in the documentation: http://pandas.pydata.org/pandas-docs/stable/indexing.html#indexing-view-versus-copy\n",
      "  \"\"\"Entry point for launching an IPython kernel.\n"
     ]
    }
   ],
   "source": [
    "polar_temps['value_hrf'] = polar_temps['value_hrf'].astype(float)"
   ]
  },
  {
   "cell_type": "code",
   "execution_count": 19,
   "metadata": {
    "scrolled": true
   },
   "outputs": [
    {
     "name": "stderr",
     "output_type": "stream",
     "text": [
      "/anaconda3/lib/python3.6/site-packages/ipykernel_launcher.py:1: SettingWithCopyWarning: \n",
      "A value is trying to be set on a copy of a slice from a DataFrame.\n",
      "Try using .loc[row_indexer,col_indexer] = value instead\n",
      "\n",
      "See the caveats in the documentation: http://pandas.pydata.org/pandas-docs/stable/indexing.html#indexing-view-versus-copy\n",
      "  \"\"\"Entry point for launching an IPython kernel.\n"
     ]
    }
   ],
   "source": [
    "polar_temps['Temp_F'] = polar_temps['value_hrf'].apply(cel_to_far)"
   ]
  },
  {
   "cell_type": "code",
   "execution_count": 21,
   "metadata": {},
   "outputs": [
    {
     "data": {
      "text/html": [
       "<div>\n",
       "<style scoped>\n",
       "    .dataframe tbody tr th:only-of-type {\n",
       "        vertical-align: middle;\n",
       "    }\n",
       "\n",
       "    .dataframe tbody tr th {\n",
       "        vertical-align: top;\n",
       "    }\n",
       "\n",
       "    .dataframe thead th {\n",
       "        text-align: right;\n",
       "    }\n",
       "</style>\n",
       "<table border=\"1\" class=\"dataframe\">\n",
       "  <thead>\n",
       "    <tr style=\"text-align: right;\">\n",
       "      <th></th>\n",
       "      <th>Unnamed: 0</th>\n",
       "      <th>node_id</th>\n",
       "      <th>subsystem</th>\n",
       "      <th>sensor</th>\n",
       "      <th>parameter</th>\n",
       "      <th>value_raw</th>\n",
       "      <th>value_hrf</th>\n",
       "      <th>Temp_F</th>\n",
       "    </tr>\n",
       "    <tr>\n",
       "      <th>timestamp</th>\n",
       "      <th></th>\n",
       "      <th></th>\n",
       "      <th></th>\n",
       "      <th></th>\n",
       "      <th></th>\n",
       "      <th></th>\n",
       "      <th></th>\n",
       "      <th></th>\n",
       "    </tr>\n",
       "  </thead>\n",
       "  <tbody>\n",
       "    <tr>\n",
       "      <th>2019-01-01 00:00:20</th>\n",
       "      <td>926</td>\n",
       "      <td>001e06113cf1</td>\n",
       "      <td>chemsense</td>\n",
       "      <td>at0</td>\n",
       "      <td>temperature</td>\n",
       "      <td>494.0</td>\n",
       "      <td>4.94</td>\n",
       "      <td>40.892</td>\n",
       "    </tr>\n",
       "    <tr>\n",
       "      <th>2019-01-01 00:00:20</th>\n",
       "      <td>927</td>\n",
       "      <td>001e06113cf1</td>\n",
       "      <td>chemsense</td>\n",
       "      <td>at1</td>\n",
       "      <td>temperature</td>\n",
       "      <td>523.0</td>\n",
       "      <td>5.23</td>\n",
       "      <td>41.414</td>\n",
       "    </tr>\n",
       "    <tr>\n",
       "      <th>2019-01-01 00:00:20</th>\n",
       "      <td>928</td>\n",
       "      <td>001e06113cf1</td>\n",
       "      <td>chemsense</td>\n",
       "      <td>at2</td>\n",
       "      <td>temperature</td>\n",
       "      <td>587.0</td>\n",
       "      <td>5.87</td>\n",
       "      <td>42.566</td>\n",
       "    </tr>\n",
       "    <tr>\n",
       "      <th>2019-01-01 00:00:20</th>\n",
       "      <td>929</td>\n",
       "      <td>001e06113cf1</td>\n",
       "      <td>chemsense</td>\n",
       "      <td>at3</td>\n",
       "      <td>temperature</td>\n",
       "      <td>632.0</td>\n",
       "      <td>6.32</td>\n",
       "      <td>43.376</td>\n",
       "    </tr>\n",
       "    <tr>\n",
       "      <th>2019-01-01 00:00:20</th>\n",
       "      <td>934</td>\n",
       "      <td>001e06113cf1</td>\n",
       "      <td>chemsense</td>\n",
       "      <td>lps25h</td>\n",
       "      <td>temperature</td>\n",
       "      <td>885.0</td>\n",
       "      <td>8.85</td>\n",
       "      <td>47.930</td>\n",
       "    </tr>\n",
       "  </tbody>\n",
       "</table>\n",
       "</div>"
      ],
      "text/plain": [
       "                     Unnamed: 0       node_id  subsystem  sensor    parameter  \\\n",
       "timestamp                                                                       \n",
       "2019-01-01 00:00:20         926  001e06113cf1  chemsense     at0  temperature   \n",
       "2019-01-01 00:00:20         927  001e06113cf1  chemsense     at1  temperature   \n",
       "2019-01-01 00:00:20         928  001e06113cf1  chemsense     at2  temperature   \n",
       "2019-01-01 00:00:20         929  001e06113cf1  chemsense     at3  temperature   \n",
       "2019-01-01 00:00:20         934  001e06113cf1  chemsense  lps25h  temperature   \n",
       "\n",
       "                    value_raw  value_hrf  Temp_F  \n",
       "timestamp                                         \n",
       "2019-01-01 00:00:20     494.0       4.94  40.892  \n",
       "2019-01-01 00:00:20     523.0       5.23  41.414  \n",
       "2019-01-01 00:00:20     587.0       5.87  42.566  \n",
       "2019-01-01 00:00:20     632.0       6.32  43.376  \n",
       "2019-01-01 00:00:20     885.0       8.85  47.930  "
      ]
     },
     "execution_count": 21,
     "metadata": {},
     "output_type": "execute_result"
    }
   ],
   "source": [
    "polar_temps.head()"
   ]
  },
  {
   "cell_type": "markdown",
   "metadata": {},
   "source": [
    "### Let's get an idea of the range of temperature values.\n"
   ]
  },
  {
   "cell_type": "code",
   "execution_count": 22,
   "metadata": {},
   "outputs": [
    {
     "data": {
      "text/plain": [
       "count    2.000265e+06\n",
       "mean     3.403617e+01\n",
       "std      1.068745e+02\n",
       "min     -8.990680e+02\n",
       "25%      3.083000e+01\n",
       "50%      3.491600e+01\n",
       "75%      4.712000e+01\n",
       "max      4.658000e+02\n",
       "Name: Temp_F, dtype: float64"
      ]
     },
     "execution_count": 22,
     "metadata": {},
     "output_type": "execute_result"
    }
   ],
   "source": [
    "polar_temps['Temp_F'].describe()"
   ]
  },
  {
   "cell_type": "markdown",
   "metadata": {},
   "source": [
    "There is a large variation in the temperatures (value_hrf) for the different sensors (-899&deg;F to 466&deg;F). Some of which violate the laws of physics and common sense."
   ]
  },
  {
   "cell_type": "markdown",
   "metadata": {},
   "source": [
    "# Which AoT temperature sensor is the most accurate?\n",
    "\n",
    "Use the National Weather Service observations at Northerly Island to compare. The blue bars are what you want to pay attention to."
   ]
  },
  {
   "cell_type": "markdown",
   "metadata": {},
   "source": [
    "<img src = \"chart.png\" height=400 width = 600 align=center>"
   ]
  },
  {
   "cell_type": "markdown",
   "metadata": {},
   "source": [
    "We can narrow our search by getting an idea of the temperature range for each sensor. Even though these values sit in the same column, we can use the `groupby` method to analyze each sensor individually."
   ]
  },
  {
   "cell_type": "code",
   "execution_count": 23,
   "metadata": {},
   "outputs": [
    {
     "data": {
      "text/plain": [
       "sensor\n",
       "at0         -0.346\n",
       "at1          0.230\n",
       "at2          1.364\n",
       "at3          2.030\n",
       "bmp180      67.640\n",
       "hih6130     37.058\n",
       "htu21d      -1.174\n",
       "lps25h       4.442\n",
       "pr103j2    -16.150\n",
       "tmp112    -428.692\n",
       "tmp421      11.300\n",
       "tsys01    -899.068\n",
       "Name: Temp_F, dtype: float64"
      ]
     },
     "execution_count": 23,
     "metadata": {},
     "output_type": "execute_result"
    }
   ],
   "source": [
    "polar_temps.groupby('sensor')['Temp_F'].min()"
   ]
  },
  {
   "cell_type": "markdown",
   "metadata": {},
   "source": [
    "It looks like `pr103j2` might be the best candidate because its minimum is closest to the National Weather Services record low (-22&deg;C).\n",
    "\n",
    "Let's make a plot of its temperatures for the month of January."
   ]
  },
  {
   "cell_type": "code",
   "execution_count": 24,
   "metadata": {},
   "outputs": [],
   "source": [
    "sensor_temp = polar_temps[polar_temps['sensor'] == 'pr103j2'] "
   ]
  },
  {
   "cell_type": "code",
   "execution_count": 25,
   "metadata": {},
   "outputs": [
    {
     "data": {
      "text/html": [
       "<div>\n",
       "<style scoped>\n",
       "    .dataframe tbody tr th:only-of-type {\n",
       "        vertical-align: middle;\n",
       "    }\n",
       "\n",
       "    .dataframe tbody tr th {\n",
       "        vertical-align: top;\n",
       "    }\n",
       "\n",
       "    .dataframe thead th {\n",
       "        text-align: right;\n",
       "    }\n",
       "</style>\n",
       "<table border=\"1\" class=\"dataframe\">\n",
       "  <thead>\n",
       "    <tr style=\"text-align: right;\">\n",
       "      <th></th>\n",
       "      <th>Unnamed: 0</th>\n",
       "      <th>node_id</th>\n",
       "      <th>subsystem</th>\n",
       "      <th>sensor</th>\n",
       "      <th>parameter</th>\n",
       "      <th>value_raw</th>\n",
       "      <th>value_hrf</th>\n",
       "      <th>Temp_F</th>\n",
       "    </tr>\n",
       "    <tr>\n",
       "      <th>timestamp</th>\n",
       "      <th></th>\n",
       "      <th></th>\n",
       "      <th></th>\n",
       "      <th></th>\n",
       "      <th></th>\n",
       "      <th></th>\n",
       "      <th></th>\n",
       "      <th></th>\n",
       "    </tr>\n",
       "  </thead>\n",
       "  <tbody>\n",
       "    <tr>\n",
       "      <th>2019-01-01 00:00:20</th>\n",
       "      <td>963</td>\n",
       "      <td>001e06113cf1</td>\n",
       "      <td>metsense</td>\n",
       "      <td>pr103j2</td>\n",
       "      <td>temperature</td>\n",
       "      <td>665</td>\n",
       "      <td>5.05</td>\n",
       "      <td>41.09</td>\n",
       "    </tr>\n",
       "    <tr>\n",
       "      <th>2019-01-01 00:00:45</th>\n",
       "      <td>2246</td>\n",
       "      <td>001e06113cf1</td>\n",
       "      <td>metsense</td>\n",
       "      <td>pr103j2</td>\n",
       "      <td>temperature</td>\n",
       "      <td>664</td>\n",
       "      <td>4.95</td>\n",
       "      <td>40.91</td>\n",
       "    </tr>\n",
       "    <tr>\n",
       "      <th>2019-01-01 00:01:11</th>\n",
       "      <td>3532</td>\n",
       "      <td>001e06113cf1</td>\n",
       "      <td>metsense</td>\n",
       "      <td>pr103j2</td>\n",
       "      <td>temperature</td>\n",
       "      <td>663</td>\n",
       "      <td>4.85</td>\n",
       "      <td>40.73</td>\n",
       "    </tr>\n",
       "    <tr>\n",
       "      <th>2019-01-01 00:01:36</th>\n",
       "      <td>4729</td>\n",
       "      <td>001e06113cf1</td>\n",
       "      <td>metsense</td>\n",
       "      <td>pr103j2</td>\n",
       "      <td>temperature</td>\n",
       "      <td>666</td>\n",
       "      <td>5.15</td>\n",
       "      <td>41.27</td>\n",
       "    </tr>\n",
       "    <tr>\n",
       "      <th>2019-01-01 00:02:01</th>\n",
       "      <td>5964</td>\n",
       "      <td>001e06113cf1</td>\n",
       "      <td>metsense</td>\n",
       "      <td>pr103j2</td>\n",
       "      <td>temperature</td>\n",
       "      <td>667</td>\n",
       "      <td>5.20</td>\n",
       "      <td>41.36</td>\n",
       "    </tr>\n",
       "  </tbody>\n",
       "</table>\n",
       "</div>"
      ],
      "text/plain": [
       "                     Unnamed: 0       node_id subsystem   sensor    parameter  \\\n",
       "timestamp                                                                       \n",
       "2019-01-01 00:00:20         963  001e06113cf1  metsense  pr103j2  temperature   \n",
       "2019-01-01 00:00:45        2246  001e06113cf1  metsense  pr103j2  temperature   \n",
       "2019-01-01 00:01:11        3532  001e06113cf1  metsense  pr103j2  temperature   \n",
       "2019-01-01 00:01:36        4729  001e06113cf1  metsense  pr103j2  temperature   \n",
       "2019-01-01 00:02:01        5964  001e06113cf1  metsense  pr103j2  temperature   \n",
       "\n",
       "                    value_raw  value_hrf  Temp_F  \n",
       "timestamp                                         \n",
       "2019-01-01 00:00:20       665       5.05   41.09  \n",
       "2019-01-01 00:00:45       664       4.95   40.91  \n",
       "2019-01-01 00:01:11       663       4.85   40.73  \n",
       "2019-01-01 00:01:36       666       5.15   41.27  \n",
       "2019-01-01 00:02:01       667       5.20   41.36  "
      ]
     },
     "execution_count": 25,
     "metadata": {},
     "output_type": "execute_result"
    }
   ],
   "source": [
    "sensor_temp.head()"
   ]
  },
  {
   "cell_type": "markdown",
   "metadata": {},
   "source": [
    "What was the minumum temperature for this node for the month of January?"
   ]
  },
  {
   "cell_type": "markdown",
   "metadata": {},
   "source": [
    "## Import Matplotlib\n",
    "\n",
    "We will use the pyplot module which provides full control of line styles, font and other properties. The style package gives support for easy-to-switch plotting “styles”.  We will use a style called \"seaborn\", but others are available."
   ]
  },
  {
   "cell_type": "code",
   "execution_count": 28,
   "metadata": {},
   "outputs": [],
   "source": [
    "import matplotlib.pyplot as plt\n",
    "plt.style.use('seaborn') "
   ]
  },
  {
   "cell_type": "code",
   "execution_count": 29,
   "metadata": {},
   "outputs": [
    {
     "data": {
      "text/plain": [
       "[<matplotlib.lines.Line2D at 0x1118b1f28>]"
      ]
     },
     "execution_count": 29,
     "metadata": {},
     "output_type": "execute_result"
    },
    {
     "data": {
      "image/png": "[encoded data removed]",
      "text/plain": [
       "<Figure size 432x288 with 1 Axes>"
      ]
     },
     "metadata": {},
     "output_type": "display_data"
    }
   ],
   "source": [
    "plt.plot(sensor_temp.index, sensor_temp['Temp_F'])"
   ]
  },
  {
   "cell_type": "code",
   "execution_count": 32,
   "metadata": {},
   "outputs": [
    {
     "data": {
      "text/plain": [
       "Text(0.5,1,'Brrr... Polar Vortex')"
      ]
     },
     "execution_count": 32,
     "metadata": {},
     "output_type": "execute_result"
    },
    {
     "data": {
      "image/png": "[encoded data removed]",
      "text/plain": [
       "<Figure size 432x288 with 1 Axes>"
      ]
     },
     "metadata": {},
     "output_type": "display_data"
    }
   ],
   "source": [
    "#don't make the mistake of plt.xlabel = 'Time'. This will set the function to the string and you\n",
    "#won't be able to fix it unless you restart the kernel.\n",
    "\n",
    "plt.plot(sensor_temp.index, sensor_temp['Temp_F'])\n",
    "plt.xlabel('Time')\n",
    "plt.ylabel('Temperature_F')\n",
    "plt.title('Brrr... Polar Vortex')"
   ]
  },
  {
   "cell_type": "code",
   "execution_count": 33,
   "metadata": {},
   "outputs": [
    {
     "data": {
      "text/plain": [
       "<Figure size 504x360 with 0 Axes>"
      ]
     },
     "execution_count": 33,
     "metadata": {},
     "output_type": "execute_result"
    },
    {
     "data": {
      "image/png": "[encoded data removed]",
      "text/plain": [
       "<Figure size 432x288 with 1 Axes>"
      ]
     },
     "metadata": {},
     "output_type": "display_data"
    },
    {
     "data": {
      "text/plain": [
       "<Figure size 504x360 with 0 Axes>"
      ]
     },
     "metadata": {},
     "output_type": "display_data"
    }
   ],
   "source": [
    "plt.plot(sensor_temp.index, sensor_temp['Temp_F'], '-r')\n",
    "plt.xlabel('Time')\n",
    "plt.ylabel('Temperature_F')\n",
    "plt.title('Brrr... Polar Vortex')\n",
    "plt.figure(figsize=(7, 5))\n"
   ]
  }
 ],
 "metadata": {
  "kernelspec": {
   "display_name": "Python 3",
   "language": "python",
   "name": "python3"
  },
  "language_info": {
   "codemirror_mode": {
    "name": "ipython",
    "version": 3
   },
   "file_extension": ".py",
   "mimetype": "text/x-python",
   "name": "python",
   "nbconvert_exporter": "python",
   "pygments_lexer": "ipython3",
   "version": "3.6.5"
  }
 },
 "nbformat": 4,
 "nbformat_minor": 2
}
