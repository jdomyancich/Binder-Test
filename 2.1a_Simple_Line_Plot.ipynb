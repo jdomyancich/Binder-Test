{
 "cells": [
  {
   "cell_type": "markdown",
   "metadata": {},
   "source": [
    "## During the polar vortex, record low temperatures were set around Chicago. On Northerly Island, the National Weather Service recorded a low of -22&deg;F One of the nodes (001e06113cf1 ) is on Michigan Ave. and Randolph St. by Millenium Park, not far from Northerly Island.\n",
    "\n",
    "## How accurate is this node?\n",
    "\n",
    "### 1. Import the January 2019 data for this node (\"Millenium_node.csv)\n",
    "### 2. Set the \"timestamp\" as the index.\n",
    "### 3. Find the names of all of the temperature sensors in the node.\n",
    "### 4. Convert the `value_hrf`'s to Farhenheit"
   ]
  },
  {
   "cell_type": "code",
   "execution_count": 47,
   "metadata": {},
   "outputs": [],
   "source": [
    "import pandas as pd"
   ]
  },
  {
   "cell_type": "code",
   "execution_count": 48,
   "metadata": {},
   "outputs": [],
   "source": [
    "url = 'https://raw.githubusercontent.com/jdomyancich/Binder-Test/master/data/millenium_temp.csv'"
   ]
  },
  {
   "cell_type": "code",
   "execution_count": 49,
   "metadata": {},
   "outputs": [],
   "source": [
    "polar = pd.read_csv(url, error_bad_lines=False)"
   ]
  },
  {
   "cell_type": "code",
   "execution_count": 50,
   "metadata": {},
   "outputs": [
    {
     "data": {
      "text/html": [
       "<div>\n",
       "<style scoped>\n",
       "    .dataframe tbody tr th:only-of-type {\n",
       "        vertical-align: middle;\n",
       "    }\n",
       "\n",
       "    .dataframe tbody tr th {\n",
       "        vertical-align: top;\n",
       "    }\n",
       "\n",
       "    .dataframe thead th {\n",
       "        text-align: right;\n",
       "    }\n",
       "</style>\n",
       "<table border=\"1\" class=\"dataframe\">\n",
       "  <thead>\n",
       "    <tr style=\"text-align: right;\">\n",
       "      <th></th>\n",
       "      <th>Unnamed: 0</th>\n",
       "      <th>Unnamed: 0.1</th>\n",
       "      <th>timestamp</th>\n",
       "      <th>node_id</th>\n",
       "      <th>subsystem</th>\n",
       "      <th>sensor</th>\n",
       "      <th>parameter</th>\n",
       "      <th>value_raw</th>\n",
       "      <th>value_hrf</th>\n",
       "    </tr>\n",
       "  </thead>\n",
       "  <tbody>\n",
       "    <tr>\n",
       "      <th>0</th>\n",
       "      <td>37</td>\n",
       "      <td>963</td>\n",
       "      <td>2019/01/01 00:00:20</td>\n",
       "      <td>001e06113cf1</td>\n",
       "      <td>metsense</td>\n",
       "      <td>pr103j2</td>\n",
       "      <td>temperature</td>\n",
       "      <td>665</td>\n",
       "      <td>5.05</td>\n",
       "    </tr>\n",
       "    <tr>\n",
       "      <th>1</th>\n",
       "      <td>79</td>\n",
       "      <td>2246</td>\n",
       "      <td>2019/01/01 00:00:45</td>\n",
       "      <td>001e06113cf1</td>\n",
       "      <td>metsense</td>\n",
       "      <td>pr103j2</td>\n",
       "      <td>temperature</td>\n",
       "      <td>664</td>\n",
       "      <td>4.95</td>\n",
       "    </tr>\n",
       "    <tr>\n",
       "      <th>2</th>\n",
       "      <td>121</td>\n",
       "      <td>3532</td>\n",
       "      <td>2019/01/01 00:01:11</td>\n",
       "      <td>001e06113cf1</td>\n",
       "      <td>metsense</td>\n",
       "      <td>pr103j2</td>\n",
       "      <td>temperature</td>\n",
       "      <td>663</td>\n",
       "      <td>4.85</td>\n",
       "    </tr>\n",
       "    <tr>\n",
       "      <th>3</th>\n",
       "      <td>163</td>\n",
       "      <td>4729</td>\n",
       "      <td>2019/01/01 00:01:36</td>\n",
       "      <td>001e06113cf1</td>\n",
       "      <td>metsense</td>\n",
       "      <td>pr103j2</td>\n",
       "      <td>temperature</td>\n",
       "      <td>666</td>\n",
       "      <td>5.15</td>\n",
       "    </tr>\n",
       "    <tr>\n",
       "      <th>4</th>\n",
       "      <td>205</td>\n",
       "      <td>5964</td>\n",
       "      <td>2019/01/01 00:02:01</td>\n",
       "      <td>001e06113cf1</td>\n",
       "      <td>metsense</td>\n",
       "      <td>pr103j2</td>\n",
       "      <td>temperature</td>\n",
       "      <td>667</td>\n",
       "      <td>5.20</td>\n",
       "    </tr>\n",
       "  </tbody>\n",
       "</table>\n",
       "</div>"
      ],
      "text/plain": [
       "   Unnamed: 0  Unnamed: 0.1            timestamp       node_id subsystem  \\\n",
       "0          37           963  2019/01/01 00:00:20  001e06113cf1  metsense   \n",
       "1          79          2246  2019/01/01 00:00:45  001e06113cf1  metsense   \n",
       "2         121          3532  2019/01/01 00:01:11  001e06113cf1  metsense   \n",
       "3         163          4729  2019/01/01 00:01:36  001e06113cf1  metsense   \n",
       "4         205          5964  2019/01/01 00:02:01  001e06113cf1  metsense   \n",
       "\n",
       "    sensor    parameter  value_raw  value_hrf  \n",
       "0  pr103j2  temperature        665       5.05  \n",
       "1  pr103j2  temperature        664       4.95  \n",
       "2  pr103j2  temperature        663       4.85  \n",
       "3  pr103j2  temperature        666       5.15  \n",
       "4  pr103j2  temperature        667       5.20  "
      ]
     },
     "execution_count": 50,
     "metadata": {},
     "output_type": "execute_result"
    }
   ],
   "source": [
    "polar.head()"
   ]
  },
  {
   "cell_type": "code",
   "execution_count": 51,
   "metadata": {},
   "outputs": [],
   "source": [
    "polar['timestamp'] = pd.to_datetime(polar['timestamp'])"
   ]
  },
  {
   "cell_type": "code",
   "execution_count": 52,
   "metadata": {},
   "outputs": [
    {
     "data": {
      "text/html": [
       "<div>\n",
       "<style scoped>\n",
       "    .dataframe tbody tr th:only-of-type {\n",
       "        vertical-align: middle;\n",
       "    }\n",
       "\n",
       "    .dataframe tbody tr th {\n",
       "        vertical-align: top;\n",
       "    }\n",
       "\n",
       "    .dataframe thead th {\n",
       "        text-align: right;\n",
       "    }\n",
       "</style>\n",
       "<table border=\"1\" class=\"dataframe\">\n",
       "  <thead>\n",
       "    <tr style=\"text-align: right;\">\n",
       "      <th></th>\n",
       "      <th>Unnamed: 0</th>\n",
       "      <th>Unnamed: 0.1</th>\n",
       "      <th>timestamp</th>\n",
       "      <th>node_id</th>\n",
       "      <th>subsystem</th>\n",
       "      <th>sensor</th>\n",
       "      <th>parameter</th>\n",
       "      <th>value_raw</th>\n",
       "      <th>value_hrf</th>\n",
       "    </tr>\n",
       "  </thead>\n",
       "  <tbody>\n",
       "    <tr>\n",
       "      <th>0</th>\n",
       "      <td>37</td>\n",
       "      <td>963</td>\n",
       "      <td>2019-01-01 00:00:20</td>\n",
       "      <td>001e06113cf1</td>\n",
       "      <td>metsense</td>\n",
       "      <td>pr103j2</td>\n",
       "      <td>temperature</td>\n",
       "      <td>665</td>\n",
       "      <td>5.05</td>\n",
       "    </tr>\n",
       "    <tr>\n",
       "      <th>1</th>\n",
       "      <td>79</td>\n",
       "      <td>2246</td>\n",
       "      <td>2019-01-01 00:00:45</td>\n",
       "      <td>001e06113cf1</td>\n",
       "      <td>metsense</td>\n",
       "      <td>pr103j2</td>\n",
       "      <td>temperature</td>\n",
       "      <td>664</td>\n",
       "      <td>4.95</td>\n",
       "    </tr>\n",
       "    <tr>\n",
       "      <th>2</th>\n",
       "      <td>121</td>\n",
       "      <td>3532</td>\n",
       "      <td>2019-01-01 00:01:11</td>\n",
       "      <td>001e06113cf1</td>\n",
       "      <td>metsense</td>\n",
       "      <td>pr103j2</td>\n",
       "      <td>temperature</td>\n",
       "      <td>663</td>\n",
       "      <td>4.85</td>\n",
       "    </tr>\n",
       "    <tr>\n",
       "      <th>3</th>\n",
       "      <td>163</td>\n",
       "      <td>4729</td>\n",
       "      <td>2019-01-01 00:01:36</td>\n",
       "      <td>001e06113cf1</td>\n",
       "      <td>metsense</td>\n",
       "      <td>pr103j2</td>\n",
       "      <td>temperature</td>\n",
       "      <td>666</td>\n",
       "      <td>5.15</td>\n",
       "    </tr>\n",
       "    <tr>\n",
       "      <th>4</th>\n",
       "      <td>205</td>\n",
       "      <td>5964</td>\n",
       "      <td>2019-01-01 00:02:01</td>\n",
       "      <td>001e06113cf1</td>\n",
       "      <td>metsense</td>\n",
       "      <td>pr103j2</td>\n",
       "      <td>temperature</td>\n",
       "      <td>667</td>\n",
       "      <td>5.20</td>\n",
       "    </tr>\n",
       "  </tbody>\n",
       "</table>\n",
       "</div>"
      ],
      "text/plain": [
       "   Unnamed: 0  Unnamed: 0.1           timestamp       node_id subsystem  \\\n",
       "0          37           963 2019-01-01 00:00:20  001e06113cf1  metsense   \n",
       "1          79          2246 2019-01-01 00:00:45  001e06113cf1  metsense   \n",
       "2         121          3532 2019-01-01 00:01:11  001e06113cf1  metsense   \n",
       "3         163          4729 2019-01-01 00:01:36  001e06113cf1  metsense   \n",
       "4         205          5964 2019-01-01 00:02:01  001e06113cf1  metsense   \n",
       "\n",
       "    sensor    parameter  value_raw  value_hrf  \n",
       "0  pr103j2  temperature        665       5.05  \n",
       "1  pr103j2  temperature        664       4.95  \n",
       "2  pr103j2  temperature        663       4.85  \n",
       "3  pr103j2  temperature        666       5.15  \n",
       "4  pr103j2  temperature        667       5.20  "
      ]
     },
     "execution_count": 52,
     "metadata": {},
     "output_type": "execute_result"
    }
   ],
   "source": [
    "polar.head()"
   ]
  },
  {
   "cell_type": "code",
   "execution_count": 53,
   "metadata": {},
   "outputs": [],
   "source": [
    "polar.index = polar['timestamp']"
   ]
  },
  {
   "cell_type": "code",
   "execution_count": 54,
   "metadata": {},
   "outputs": [
    {
     "data": {
      "text/html": [
       "<div>\n",
       "<style scoped>\n",
       "    .dataframe tbody tr th:only-of-type {\n",
       "        vertical-align: middle;\n",
       "    }\n",
       "\n",
       "    .dataframe tbody tr th {\n",
       "        vertical-align: top;\n",
       "    }\n",
       "\n",
       "    .dataframe thead th {\n",
       "        text-align: right;\n",
       "    }\n",
       "</style>\n",
       "<table border=\"1\" class=\"dataframe\">\n",
       "  <thead>\n",
       "    <tr style=\"text-align: right;\">\n",
       "      <th></th>\n",
       "      <th>Unnamed: 0</th>\n",
       "      <th>Unnamed: 0.1</th>\n",
       "      <th>timestamp</th>\n",
       "      <th>node_id</th>\n",
       "      <th>subsystem</th>\n",
       "      <th>sensor</th>\n",
       "      <th>parameter</th>\n",
       "      <th>value_raw</th>\n",
       "      <th>value_hrf</th>\n",
       "    </tr>\n",
       "    <tr>\n",
       "      <th>timestamp</th>\n",
       "      <th></th>\n",
       "      <th></th>\n",
       "      <th></th>\n",
       "      <th></th>\n",
       "      <th></th>\n",
       "      <th></th>\n",
       "      <th></th>\n",
       "      <th></th>\n",
       "      <th></th>\n",
       "    </tr>\n",
       "  </thead>\n",
       "  <tbody>\n",
       "    <tr>\n",
       "      <th>2019-01-01 00:00:20</th>\n",
       "      <td>37</td>\n",
       "      <td>963</td>\n",
       "      <td>2019-01-01 00:00:20</td>\n",
       "      <td>001e06113cf1</td>\n",
       "      <td>metsense</td>\n",
       "      <td>pr103j2</td>\n",
       "      <td>temperature</td>\n",
       "      <td>665</td>\n",
       "      <td>5.05</td>\n",
       "    </tr>\n",
       "    <tr>\n",
       "      <th>2019-01-01 00:00:45</th>\n",
       "      <td>79</td>\n",
       "      <td>2246</td>\n",
       "      <td>2019-01-01 00:00:45</td>\n",
       "      <td>001e06113cf1</td>\n",
       "      <td>metsense</td>\n",
       "      <td>pr103j2</td>\n",
       "      <td>temperature</td>\n",
       "      <td>664</td>\n",
       "      <td>4.95</td>\n",
       "    </tr>\n",
       "    <tr>\n",
       "      <th>2019-01-01 00:01:11</th>\n",
       "      <td>121</td>\n",
       "      <td>3532</td>\n",
       "      <td>2019-01-01 00:01:11</td>\n",
       "      <td>001e06113cf1</td>\n",
       "      <td>metsense</td>\n",
       "      <td>pr103j2</td>\n",
       "      <td>temperature</td>\n",
       "      <td>663</td>\n",
       "      <td>4.85</td>\n",
       "    </tr>\n",
       "    <tr>\n",
       "      <th>2019-01-01 00:01:36</th>\n",
       "      <td>163</td>\n",
       "      <td>4729</td>\n",
       "      <td>2019-01-01 00:01:36</td>\n",
       "      <td>001e06113cf1</td>\n",
       "      <td>metsense</td>\n",
       "      <td>pr103j2</td>\n",
       "      <td>temperature</td>\n",
       "      <td>666</td>\n",
       "      <td>5.15</td>\n",
       "    </tr>\n",
       "    <tr>\n",
       "      <th>2019-01-01 00:02:01</th>\n",
       "      <td>205</td>\n",
       "      <td>5964</td>\n",
       "      <td>2019-01-01 00:02:01</td>\n",
       "      <td>001e06113cf1</td>\n",
       "      <td>metsense</td>\n",
       "      <td>pr103j2</td>\n",
       "      <td>temperature</td>\n",
       "      <td>667</td>\n",
       "      <td>5.20</td>\n",
       "    </tr>\n",
       "  </tbody>\n",
       "</table>\n",
       "</div>"
      ],
      "text/plain": [
       "                     Unnamed: 0  Unnamed: 0.1           timestamp  \\\n",
       "timestamp                                                           \n",
       "2019-01-01 00:00:20          37           963 2019-01-01 00:00:20   \n",
       "2019-01-01 00:00:45          79          2246 2019-01-01 00:00:45   \n",
       "2019-01-01 00:01:11         121          3532 2019-01-01 00:01:11   \n",
       "2019-01-01 00:01:36         163          4729 2019-01-01 00:01:36   \n",
       "2019-01-01 00:02:01         205          5964 2019-01-01 00:02:01   \n",
       "\n",
       "                          node_id subsystem   sensor    parameter  value_raw  \\\n",
       "timestamp                                                                      \n",
       "2019-01-01 00:00:20  001e06113cf1  metsense  pr103j2  temperature        665   \n",
       "2019-01-01 00:00:45  001e06113cf1  metsense  pr103j2  temperature        664   \n",
       "2019-01-01 00:01:11  001e06113cf1  metsense  pr103j2  temperature        663   \n",
       "2019-01-01 00:01:36  001e06113cf1  metsense  pr103j2  temperature        666   \n",
       "2019-01-01 00:02:01  001e06113cf1  metsense  pr103j2  temperature        667   \n",
       "\n",
       "                     value_hrf  \n",
       "timestamp                       \n",
       "2019-01-01 00:00:20       5.05  \n",
       "2019-01-01 00:00:45       4.95  \n",
       "2019-01-01 00:01:11       4.85  \n",
       "2019-01-01 00:01:36       5.15  \n",
       "2019-01-01 00:02:01       5.20  "
      ]
     },
     "execution_count": 54,
     "metadata": {},
     "output_type": "execute_result"
    }
   ],
   "source": [
    "polar.head()"
   ]
  },
  {
   "cell_type": "code",
   "execution_count": 55,
   "metadata": {},
   "outputs": [],
   "source": [
    "del polar['timestamp']"
   ]
  },
  {
   "cell_type": "code",
   "execution_count": 56,
   "metadata": {
    "scrolled": true
   },
   "outputs": [
    {
     "data": {
      "text/html": [
       "<div>\n",
       "<style scoped>\n",
       "    .dataframe tbody tr th:only-of-type {\n",
       "        vertical-align: middle;\n",
       "    }\n",
       "\n",
       "    .dataframe tbody tr th {\n",
       "        vertical-align: top;\n",
       "    }\n",
       "\n",
       "    .dataframe thead th {\n",
       "        text-align: right;\n",
       "    }\n",
       "</style>\n",
       "<table border=\"1\" class=\"dataframe\">\n",
       "  <thead>\n",
       "    <tr style=\"text-align: right;\">\n",
       "      <th></th>\n",
       "      <th>Unnamed: 0</th>\n",
       "      <th>Unnamed: 0.1</th>\n",
       "      <th>node_id</th>\n",
       "      <th>subsystem</th>\n",
       "      <th>sensor</th>\n",
       "      <th>parameter</th>\n",
       "      <th>value_raw</th>\n",
       "      <th>value_hrf</th>\n",
       "    </tr>\n",
       "    <tr>\n",
       "      <th>timestamp</th>\n",
       "      <th></th>\n",
       "      <th></th>\n",
       "      <th></th>\n",
       "      <th></th>\n",
       "      <th></th>\n",
       "      <th></th>\n",
       "      <th></th>\n",
       "      <th></th>\n",
       "    </tr>\n",
       "  </thead>\n",
       "  <tbody>\n",
       "    <tr>\n",
       "      <th>2019-01-01 00:00:20</th>\n",
       "      <td>37</td>\n",
       "      <td>963</td>\n",
       "      <td>001e06113cf1</td>\n",
       "      <td>metsense</td>\n",
       "      <td>pr103j2</td>\n",
       "      <td>temperature</td>\n",
       "      <td>665</td>\n",
       "      <td>5.05</td>\n",
       "    </tr>\n",
       "    <tr>\n",
       "      <th>2019-01-01 00:00:45</th>\n",
       "      <td>79</td>\n",
       "      <td>2246</td>\n",
       "      <td>001e06113cf1</td>\n",
       "      <td>metsense</td>\n",
       "      <td>pr103j2</td>\n",
       "      <td>temperature</td>\n",
       "      <td>664</td>\n",
       "      <td>4.95</td>\n",
       "    </tr>\n",
       "    <tr>\n",
       "      <th>2019-01-01 00:01:11</th>\n",
       "      <td>121</td>\n",
       "      <td>3532</td>\n",
       "      <td>001e06113cf1</td>\n",
       "      <td>metsense</td>\n",
       "      <td>pr103j2</td>\n",
       "      <td>temperature</td>\n",
       "      <td>663</td>\n",
       "      <td>4.85</td>\n",
       "    </tr>\n",
       "    <tr>\n",
       "      <th>2019-01-01 00:01:36</th>\n",
       "      <td>163</td>\n",
       "      <td>4729</td>\n",
       "      <td>001e06113cf1</td>\n",
       "      <td>metsense</td>\n",
       "      <td>pr103j2</td>\n",
       "      <td>temperature</td>\n",
       "      <td>666</td>\n",
       "      <td>5.15</td>\n",
       "    </tr>\n",
       "    <tr>\n",
       "      <th>2019-01-01 00:02:01</th>\n",
       "      <td>205</td>\n",
       "      <td>5964</td>\n",
       "      <td>001e06113cf1</td>\n",
       "      <td>metsense</td>\n",
       "      <td>pr103j2</td>\n",
       "      <td>temperature</td>\n",
       "      <td>667</td>\n",
       "      <td>5.20</td>\n",
       "    </tr>\n",
       "  </tbody>\n",
       "</table>\n",
       "</div>"
      ],
      "text/plain": [
       "                     Unnamed: 0  Unnamed: 0.1       node_id subsystem  \\\n",
       "timestamp                                                               \n",
       "2019-01-01 00:00:20          37           963  001e06113cf1  metsense   \n",
       "2019-01-01 00:00:45          79          2246  001e06113cf1  metsense   \n",
       "2019-01-01 00:01:11         121          3532  001e06113cf1  metsense   \n",
       "2019-01-01 00:01:36         163          4729  001e06113cf1  metsense   \n",
       "2019-01-01 00:02:01         205          5964  001e06113cf1  metsense   \n",
       "\n",
       "                      sensor    parameter  value_raw  value_hrf  \n",
       "timestamp                                                        \n",
       "2019-01-01 00:00:20  pr103j2  temperature        665       5.05  \n",
       "2019-01-01 00:00:45  pr103j2  temperature        664       4.95  \n",
       "2019-01-01 00:01:11  pr103j2  temperature        663       4.85  \n",
       "2019-01-01 00:01:36  pr103j2  temperature        666       5.15  \n",
       "2019-01-01 00:02:01  pr103j2  temperature        667       5.20  "
      ]
     },
     "execution_count": 56,
     "metadata": {},
     "output_type": "execute_result"
    }
   ],
   "source": [
    "polar.head()"
   ]
  },
  {
   "cell_type": "code",
   "execution_count": 57,
   "metadata": {},
   "outputs": [],
   "source": [
    "polar_temps = polar[(polar['parameter'] == \"temperature\")]"
   ]
  },
  {
   "cell_type": "code",
   "execution_count": 58,
   "metadata": {},
   "outputs": [
    {
     "data": {
      "text/html": [
       "<div>\n",
       "<style scoped>\n",
       "    .dataframe tbody tr th:only-of-type {\n",
       "        vertical-align: middle;\n",
       "    }\n",
       "\n",
       "    .dataframe tbody tr th {\n",
       "        vertical-align: top;\n",
       "    }\n",
       "\n",
       "    .dataframe thead th {\n",
       "        text-align: right;\n",
       "    }\n",
       "</style>\n",
       "<table border=\"1\" class=\"dataframe\">\n",
       "  <thead>\n",
       "    <tr style=\"text-align: right;\">\n",
       "      <th></th>\n",
       "      <th>Unnamed: 0</th>\n",
       "      <th>Unnamed: 0.1</th>\n",
       "      <th>node_id</th>\n",
       "      <th>subsystem</th>\n",
       "      <th>sensor</th>\n",
       "      <th>parameter</th>\n",
       "      <th>value_raw</th>\n",
       "      <th>value_hrf</th>\n",
       "    </tr>\n",
       "    <tr>\n",
       "      <th>timestamp</th>\n",
       "      <th></th>\n",
       "      <th></th>\n",
       "      <th></th>\n",
       "      <th></th>\n",
       "      <th></th>\n",
       "      <th></th>\n",
       "      <th></th>\n",
       "      <th></th>\n",
       "    </tr>\n",
       "  </thead>\n",
       "  <tbody>\n",
       "    <tr>\n",
       "      <th>2019-01-01 00:00:20</th>\n",
       "      <td>37</td>\n",
       "      <td>963</td>\n",
       "      <td>001e06113cf1</td>\n",
       "      <td>metsense</td>\n",
       "      <td>pr103j2</td>\n",
       "      <td>temperature</td>\n",
       "      <td>665</td>\n",
       "      <td>5.05</td>\n",
       "    </tr>\n",
       "  </tbody>\n",
       "</table>\n",
       "</div>"
      ],
      "text/plain": [
       "                     Unnamed: 0  Unnamed: 0.1       node_id subsystem  \\\n",
       "timestamp                                                               \n",
       "2019-01-01 00:00:20          37           963  001e06113cf1  metsense   \n",
       "\n",
       "                      sensor    parameter  value_raw  value_hrf  \n",
       "timestamp                                                        \n",
       "2019-01-01 00:00:20  pr103j2  temperature        665       5.05  "
      ]
     },
     "execution_count": 58,
     "metadata": {},
     "output_type": "execute_result"
    }
   ],
   "source": [
    "polar_temps.drop_duplicates('sensor')"
   ]
  },
  {
   "cell_type": "markdown",
   "metadata": {},
   "source": [
    "Convert the temperatures to Fahrenheit."
   ]
  },
  {
   "cell_type": "code",
   "execution_count": 59,
   "metadata": {},
   "outputs": [],
   "source": [
    "def cel_to_far(temp_C):\n",
    "    temp_F = (temp_C * 9/5) + 32\n",
    "    return temp_F"
   ]
  },
  {
   "cell_type": "code",
   "execution_count": 60,
   "metadata": {
    "scrolled": true
   },
   "outputs": [],
   "source": [
    "polar_temps['Temp_F'] = polar_temps['value_hrf'].apply(cel_to_far)"
   ]
  },
  {
   "cell_type": "code",
   "execution_count": 61,
   "metadata": {
    "scrolled": true
   },
   "outputs": [],
   "source": [
    "polar_temps['value_hrf'] = polar_temps['value_hrf'].astype(float)"
   ]
  },
  {
   "cell_type": "code",
   "execution_count": 62,
   "metadata": {
    "scrolled": true
   },
   "outputs": [],
   "source": [
    "polar_temps['Temp_F'] = polar_temps['value_hrf'].apply(cel_to_far)"
   ]
  },
  {
   "cell_type": "code",
   "execution_count": 63,
   "metadata": {},
   "outputs": [
    {
     "data": {
      "text/html": [
       "<div>\n",
       "<style scoped>\n",
       "    .dataframe tbody tr th:only-of-type {\n",
       "        vertical-align: middle;\n",
       "    }\n",
       "\n",
       "    .dataframe tbody tr th {\n",
       "        vertical-align: top;\n",
       "    }\n",
       "\n",
       "    .dataframe thead th {\n",
       "        text-align: right;\n",
       "    }\n",
       "</style>\n",
       "<table border=\"1\" class=\"dataframe\">\n",
       "  <thead>\n",
       "    <tr style=\"text-align: right;\">\n",
       "      <th></th>\n",
       "      <th>Unnamed: 0</th>\n",
       "      <th>Unnamed: 0.1</th>\n",
       "      <th>node_id</th>\n",
       "      <th>subsystem</th>\n",
       "      <th>sensor</th>\n",
       "      <th>parameter</th>\n",
       "      <th>value_raw</th>\n",
       "      <th>value_hrf</th>\n",
       "      <th>Temp_F</th>\n",
       "    </tr>\n",
       "    <tr>\n",
       "      <th>timestamp</th>\n",
       "      <th></th>\n",
       "      <th></th>\n",
       "      <th></th>\n",
       "      <th></th>\n",
       "      <th></th>\n",
       "      <th></th>\n",
       "      <th></th>\n",
       "      <th></th>\n",
       "      <th></th>\n",
       "    </tr>\n",
       "  </thead>\n",
       "  <tbody>\n",
       "    <tr>\n",
       "      <th>2019-01-01 00:00:20</th>\n",
       "      <td>37</td>\n",
       "      <td>963</td>\n",
       "      <td>001e06113cf1</td>\n",
       "      <td>metsense</td>\n",
       "      <td>pr103j2</td>\n",
       "      <td>temperature</td>\n",
       "      <td>665</td>\n",
       "      <td>5.05</td>\n",
       "      <td>41.09</td>\n",
       "    </tr>\n",
       "    <tr>\n",
       "      <th>2019-01-01 00:00:45</th>\n",
       "      <td>79</td>\n",
       "      <td>2246</td>\n",
       "      <td>001e06113cf1</td>\n",
       "      <td>metsense</td>\n",
       "      <td>pr103j2</td>\n",
       "      <td>temperature</td>\n",
       "      <td>664</td>\n",
       "      <td>4.95</td>\n",
       "      <td>40.91</td>\n",
       "    </tr>\n",
       "    <tr>\n",
       "      <th>2019-01-01 00:01:11</th>\n",
       "      <td>121</td>\n",
       "      <td>3532</td>\n",
       "      <td>001e06113cf1</td>\n",
       "      <td>metsense</td>\n",
       "      <td>pr103j2</td>\n",
       "      <td>temperature</td>\n",
       "      <td>663</td>\n",
       "      <td>4.85</td>\n",
       "      <td>40.73</td>\n",
       "    </tr>\n",
       "    <tr>\n",
       "      <th>2019-01-01 00:01:36</th>\n",
       "      <td>163</td>\n",
       "      <td>4729</td>\n",
       "      <td>001e06113cf1</td>\n",
       "      <td>metsense</td>\n",
       "      <td>pr103j2</td>\n",
       "      <td>temperature</td>\n",
       "      <td>666</td>\n",
       "      <td>5.15</td>\n",
       "      <td>41.27</td>\n",
       "    </tr>\n",
       "    <tr>\n",
       "      <th>2019-01-01 00:02:01</th>\n",
       "      <td>205</td>\n",
       "      <td>5964</td>\n",
       "      <td>001e06113cf1</td>\n",
       "      <td>metsense</td>\n",
       "      <td>pr103j2</td>\n",
       "      <td>temperature</td>\n",
       "      <td>667</td>\n",
       "      <td>5.20</td>\n",
       "      <td>41.36</td>\n",
       "    </tr>\n",
       "  </tbody>\n",
       "</table>\n",
       "</div>"
      ],
      "text/plain": [
       "                     Unnamed: 0  Unnamed: 0.1       node_id subsystem  \\\n",
       "timestamp                                                               \n",
       "2019-01-01 00:00:20          37           963  001e06113cf1  metsense   \n",
       "2019-01-01 00:00:45          79          2246  001e06113cf1  metsense   \n",
       "2019-01-01 00:01:11         121          3532  001e06113cf1  metsense   \n",
       "2019-01-01 00:01:36         163          4729  001e06113cf1  metsense   \n",
       "2019-01-01 00:02:01         205          5964  001e06113cf1  metsense   \n",
       "\n",
       "                      sensor    parameter  value_raw  value_hrf  Temp_F  \n",
       "timestamp                                                                \n",
       "2019-01-01 00:00:20  pr103j2  temperature        665       5.05   41.09  \n",
       "2019-01-01 00:00:45  pr103j2  temperature        664       4.95   40.91  \n",
       "2019-01-01 00:01:11  pr103j2  temperature        663       4.85   40.73  \n",
       "2019-01-01 00:01:36  pr103j2  temperature        666       5.15   41.27  \n",
       "2019-01-01 00:02:01  pr103j2  temperature        667       5.20   41.36  "
      ]
     },
     "execution_count": 63,
     "metadata": {},
     "output_type": "execute_result"
    }
   ],
   "source": [
    "polar_temps.head()"
   ]
  },
  {
   "cell_type": "markdown",
   "metadata": {},
   "source": [
    "### Let's get an idea of the range of temperature values.\n"
   ]
  },
  {
   "cell_type": "code",
   "execution_count": 64,
   "metadata": {},
   "outputs": [
    {
     "data": {
      "text/plain": [
       "count    171605.000000\n",
       "mean         28.944437\n",
       "std          11.526334\n",
       "min         -16.150000\n",
       "25%          27.500000\n",
       "50%          31.550000\n",
       "75%          33.980000\n",
       "max          61.700000\n",
       "Name: Temp_F, dtype: float64"
      ]
     },
     "execution_count": 64,
     "metadata": {},
     "output_type": "execute_result"
    }
   ],
   "source": [
    "polar_temps['Temp_F'].describe()"
   ]
  },
  {
   "cell_type": "markdown",
   "metadata": {},
   "source": [
    "There is a large variation in the temperatures (value_hrf) for the different sensors (-899&deg;F to 466&deg;F). Some of which violate the laws of physics and common sense."
   ]
  },
  {
   "cell_type": "markdown",
   "metadata": {},
   "source": [
    "# Which AoT temperature sensor is the most accurate?\n",
    "\n",
    "Use the National Weather Service observations at Northerly Island to compare. The blue bars are what you want to pay attention to."
   ]
  },
  {
   "cell_type": "markdown",
   "metadata": {},
   "source": [
    "<img src = \"chart.png\" height=400 width = 600 align=center>"
   ]
  },
  {
   "cell_type": "markdown",
   "metadata": {},
   "source": [
    "We can narrow our search by getting an idea of the temperature range for each sensor. Even though these values sit in the same column, we can use the `groupby` method to analyze each sensor individually."
   ]
  },
  {
   "cell_type": "code",
   "execution_count": 65,
   "metadata": {},
   "outputs": [
    {
     "data": {
      "text/plain": [
       "sensor\n",
       "pr103j2   -16.15\n",
       "Name: Temp_F, dtype: float64"
      ]
     },
     "execution_count": 65,
     "metadata": {},
     "output_type": "execute_result"
    }
   ],
   "source": [
    "polar_temps.groupby('sensor')['Temp_F'].min()"
   ]
  },
  {
   "cell_type": "markdown",
   "metadata": {},
   "source": [
    "It looks like `pr103j2` might be the best candidate because its minimum is closest to the National Weather Services record low (-22&deg;C).\n",
    "\n",
    "Let's make a plot of its temperatures for the month of January."
   ]
  },
  {
   "cell_type": "code",
   "execution_count": 68,
   "metadata": {},
   "outputs": [],
   "source": [
    "sensor_temp = polar_temps[polar_temps['sensor'] == 'pr103j2'] "
   ]
  },
  {
   "cell_type": "code",
   "execution_count": 69,
   "metadata": {},
   "outputs": [
    {
     "data": {
      "text/html": [
       "<div>\n",
       "<style scoped>\n",
       "    .dataframe tbody tr th:only-of-type {\n",
       "        vertical-align: middle;\n",
       "    }\n",
       "\n",
       "    .dataframe tbody tr th {\n",
       "        vertical-align: top;\n",
       "    }\n",
       "\n",
       "    .dataframe thead th {\n",
       "        text-align: right;\n",
       "    }\n",
       "</style>\n",
       "<table border=\"1\" class=\"dataframe\">\n",
       "  <thead>\n",
       "    <tr style=\"text-align: right;\">\n",
       "      <th></th>\n",
       "      <th>Unnamed: 0</th>\n",
       "      <th>Unnamed: 0.1</th>\n",
       "      <th>node_id</th>\n",
       "      <th>subsystem</th>\n",
       "      <th>sensor</th>\n",
       "      <th>parameter</th>\n",
       "      <th>value_raw</th>\n",
       "      <th>value_hrf</th>\n",
       "      <th>Temp_F</th>\n",
       "    </tr>\n",
       "    <tr>\n",
       "      <th>timestamp</th>\n",
       "      <th></th>\n",
       "      <th></th>\n",
       "      <th></th>\n",
       "      <th></th>\n",
       "      <th></th>\n",
       "      <th></th>\n",
       "      <th></th>\n",
       "      <th></th>\n",
       "      <th></th>\n",
       "    </tr>\n",
       "  </thead>\n",
       "  <tbody>\n",
       "    <tr>\n",
       "      <th>2019-01-01 00:00:20</th>\n",
       "      <td>37</td>\n",
       "      <td>963</td>\n",
       "      <td>001e06113cf1</td>\n",
       "      <td>metsense</td>\n",
       "      <td>pr103j2</td>\n",
       "      <td>temperature</td>\n",
       "      <td>665</td>\n",
       "      <td>5.05</td>\n",
       "      <td>41.09</td>\n",
       "    </tr>\n",
       "    <tr>\n",
       "      <th>2019-01-01 00:00:45</th>\n",
       "      <td>79</td>\n",
       "      <td>2246</td>\n",
       "      <td>001e06113cf1</td>\n",
       "      <td>metsense</td>\n",
       "      <td>pr103j2</td>\n",
       "      <td>temperature</td>\n",
       "      <td>664</td>\n",
       "      <td>4.95</td>\n",
       "      <td>40.91</td>\n",
       "    </tr>\n",
       "    <tr>\n",
       "      <th>2019-01-01 00:01:11</th>\n",
       "      <td>121</td>\n",
       "      <td>3532</td>\n",
       "      <td>001e06113cf1</td>\n",
       "      <td>metsense</td>\n",
       "      <td>pr103j2</td>\n",
       "      <td>temperature</td>\n",
       "      <td>663</td>\n",
       "      <td>4.85</td>\n",
       "      <td>40.73</td>\n",
       "    </tr>\n",
       "    <tr>\n",
       "      <th>2019-01-01 00:01:36</th>\n",
       "      <td>163</td>\n",
       "      <td>4729</td>\n",
       "      <td>001e06113cf1</td>\n",
       "      <td>metsense</td>\n",
       "      <td>pr103j2</td>\n",
       "      <td>temperature</td>\n",
       "      <td>666</td>\n",
       "      <td>5.15</td>\n",
       "      <td>41.27</td>\n",
       "    </tr>\n",
       "    <tr>\n",
       "      <th>2019-01-01 00:02:01</th>\n",
       "      <td>205</td>\n",
       "      <td>5964</td>\n",
       "      <td>001e06113cf1</td>\n",
       "      <td>metsense</td>\n",
       "      <td>pr103j2</td>\n",
       "      <td>temperature</td>\n",
       "      <td>667</td>\n",
       "      <td>5.20</td>\n",
       "      <td>41.36</td>\n",
       "    </tr>\n",
       "  </tbody>\n",
       "</table>\n",
       "</div>"
      ],
      "text/plain": [
       "                     Unnamed: 0  Unnamed: 0.1       node_id subsystem  \\\n",
       "timestamp                                                               \n",
       "2019-01-01 00:00:20          37           963  001e06113cf1  metsense   \n",
       "2019-01-01 00:00:45          79          2246  001e06113cf1  metsense   \n",
       "2019-01-01 00:01:11         121          3532  001e06113cf1  metsense   \n",
       "2019-01-01 00:01:36         163          4729  001e06113cf1  metsense   \n",
       "2019-01-01 00:02:01         205          5964  001e06113cf1  metsense   \n",
       "\n",
       "                      sensor    parameter  value_raw  value_hrf  Temp_F  \n",
       "timestamp                                                                \n",
       "2019-01-01 00:00:20  pr103j2  temperature        665       5.05   41.09  \n",
       "2019-01-01 00:00:45  pr103j2  temperature        664       4.95   40.91  \n",
       "2019-01-01 00:01:11  pr103j2  temperature        663       4.85   40.73  \n",
       "2019-01-01 00:01:36  pr103j2  temperature        666       5.15   41.27  \n",
       "2019-01-01 00:02:01  pr103j2  temperature        667       5.20   41.36  "
      ]
     },
     "execution_count": 69,
     "metadata": {},
     "output_type": "execute_result"
    }
   ],
   "source": [
    "sensor_temp.head()"
   ]
  },
  {
   "cell_type": "markdown",
   "metadata": {},
   "source": [
    "What was the minumum temperature for this node for the month of January?"
   ]
  },
  {
   "cell_type": "markdown",
   "metadata": {},
   "source": [
    "## Import Matplotlib\n",
    "\n",
    "We will use the pyplot module which provides full control of line styles, font and other properties. The style package gives support for easy-to-switch plotting “styles”.  We will use a style called \"seaborn\", but others are available."
   ]
  },
  {
   "cell_type": "code",
   "execution_count": 70,
   "metadata": {},
   "outputs": [],
   "source": [
    "import matplotlib.pyplot as plt\n",
    "plt.style.use('seaborn') "
   ]
  },
  {
   "cell_type": "code",
   "execution_count": 71,
   "metadata": {},
   "outputs": [
    {
     "data": {
      "text/plain": [
       "[<matplotlib.lines.Line2D at 0x126a0f6d8>]"
      ]
     },
     "execution_count": 71,
     "metadata": {},
     "output_type": "execute_result"
    },
    {
     "data": {
      "image/png": "[encoded data removed]",
      "text/plain": [
       "<Figure size 576x396 with 1 Axes>"
      ]
     },
     "metadata": {},
     "output_type": "display_data"
    }
   ],
   "source": [
    "plt.plot(sensor_temp.index, sensor_temp['Temp_F'])"
   ]
  },
  {
   "cell_type": "code",
   "execution_count": 72,
   "metadata": {},
   "outputs": [
    {
     "data": {
      "text/plain": [
       "Text(0.5, 1.0, 'Brrr... Polar Vortex')"
      ]
     },
     "execution_count": 72,
     "metadata": {},
     "output_type": "execute_result"
    },
    {
     "data": {
      "image/png": "[encoded data removed]",
      "text/plain": [
       "<Figure size 576x396 with 1 Axes>"
      ]
     },
     "metadata": {},
     "output_type": "display_data"
    }
   ],
   "source": [
    "#don't make the mistake of plt.xlabel = 'Time'. This will set the function to the string and you\n",
    "#won't be able to fix it unless you restart the kernel.\n",
    "\n",
    "plt.plot(sensor_temp.index, sensor_temp['Temp_F'])\n",
    "plt.xlabel('Time')\n",
    "plt.ylabel('Temperature_F')\n",
    "plt.title('Brrr... Polar Vortex')"
   ]
  },
  {
   "cell_type": "code",
   "execution_count": 73,
   "metadata": {},
   "outputs": [
    {
     "data": {
      "text/plain": [
       "<Figure size 504x360 with 0 Axes>"
      ]
     },
     "execution_count": 73,
     "metadata": {},
     "output_type": "execute_result"
    },
    {
     "data": {
      "image/png": "[encoded data removed]",
      "text/plain": [
       "<Figure size 576x396 with 1 Axes>"
      ]
     },
     "metadata": {},
     "output_type": "display_data"
    },
    {
     "data": {
      "text/plain": [
       "<Figure size 504x360 with 0 Axes>"
      ]
     },
     "metadata": {},
     "output_type": "display_data"
    }
   ],
   "source": [
    "plt.plot(sensor_temp.index, sensor_temp['Temp_F'], '-r')\n",
    "plt.xlabel('Time')\n",
    "plt.ylabel('Temperature_F')\n",
    "plt.title('Brrr... Polar Vortex')\n",
    "plt.figure(figsize=(7, 5))\n"
   ]
  },
  {
   "cell_type": "code",
   "execution_count": null,
   "metadata": {},
   "outputs": [],
   "source": []
  }
 ],
 "metadata": {
  "kernelspec": {
   "display_name": "Python 3",
   "language": "python",
   "name": "python3"
  },
  "language_info": {
   "codemirror_mode": {
    "name": "ipython",
    "version": 3
   },
   "file_extension": ".py",
   "mimetype": "text/x-python",
   "name": "python",
   "nbconvert_exporter": "python",
   "pygments_lexer": "ipython3",
   "version": "3.6.8"
  }
 },
 "nbformat": 4,
 "nbformat_minor": 4
}
